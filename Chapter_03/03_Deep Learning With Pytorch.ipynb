{
 "cells": [
  {
   "cell_type": "markdown",
   "id": "e789b2eb-a838-41a5-bf3d-39cbcc1341bb",
   "metadata": {},
   "source": [
    "## The creation of tensors"
   ]
  },
  {
   "cell_type": "code",
   "execution_count": 19,
   "id": "1cd19bea-9353-432f-b89f-8750fa314437",
   "metadata": {},
   "outputs": [],
   "source": [
    "%load_ext lab_black"
   ]
  },
  {
   "cell_type": "code",
   "execution_count": 20,
   "id": "f8c66596-f461-4184-9044-0cbfb981f84e",
   "metadata": {},
   "outputs": [],
   "source": [
    "import torch\n",
    "import numpy as np"
   ]
  },
  {
   "cell_type": "code",
   "execution_count": 21,
   "id": "b0a51fe5-1edd-4535-b605-68e5bde357d7",
   "metadata": {},
   "outputs": [],
   "source": [
    "a = torch.FloatTensor(2, 3, 2)"
   ]
  },
  {
   "cell_type": "code",
   "execution_count": 22,
   "id": "6bbf9ac7-5777-4a12-8943-c675dc0943a6",
   "metadata": {},
   "outputs": [
    {
     "data": {
      "text/plain": [
       "tensor([[[0., 0.],\n",
       "         [0., 0.],\n",
       "         [0., 0.]],\n",
       "\n",
       "        [[0., 0.],\n",
       "         [0., 0.],\n",
       "         [0., 0.]]])"
      ]
     },
     "execution_count": 22,
     "metadata": {},
     "output_type": "execute_result"
    }
   ],
   "source": [
    "a.zero_()"
   ]
  },
  {
   "cell_type": "code",
   "execution_count": 23,
   "id": "0c2df426-8d73-40ee-a23f-ffd06cd051b9",
   "metadata": {},
   "outputs": [
    {
     "data": {
      "text/plain": [
       "tensor([[1., 2., 3.],\n",
       "        [3., 2., 1.]])"
      ]
     },
     "execution_count": 23,
     "metadata": {},
     "output_type": "execute_result"
    }
   ],
   "source": [
    "torch.FloatTensor([[1, 2, 3], [3, 2, 1]])"
   ]
  },
  {
   "cell_type": "code",
   "execution_count": 24,
   "id": "30dc4c7a-d12d-49ab-9900-027f82e1afa0",
   "metadata": {},
   "outputs": [],
   "source": [
    "n = np.zeros(shape=(3, 2))"
   ]
  },
  {
   "cell_type": "code",
   "execution_count": 26,
   "id": "4c292358-5797-482c-b061-ac9554dd9788",
   "metadata": {},
   "outputs": [
    {
     "data": {
      "text/plain": [
       "array([[0., 0.],\n",
       "       [0., 0.],\n",
       "       [0., 0.]])"
      ]
     },
     "execution_count": 26,
     "metadata": {},
     "output_type": "execute_result"
    }
   ],
   "source": [
    "n"
   ]
  },
  {
   "cell_type": "code",
   "execution_count": 29,
   "id": "63aeed62-def2-4291-ad56-bf5554bf4682",
   "metadata": {},
   "outputs": [],
   "source": [
    "# Accept numpy array\n",
    "b = torch.tensor(n)"
   ]
  },
  {
   "cell_type": "code",
   "execution_count": 28,
   "id": "87015565-17ad-4f1a-a6cb-5c61efa8d046",
   "metadata": {},
   "outputs": [
    {
     "data": {
      "text/plain": [
       "tensor([[0., 0.],\n",
       "        [0., 0.],\n",
       "        [0., 0.]], dtype=torch.float64)"
      ]
     },
     "execution_count": 28,
     "metadata": {},
     "output_type": "execute_result"
    }
   ],
   "source": [
    "b"
   ]
  },
  {
   "cell_type": "code",
   "execution_count": 30,
   "id": "e909e0af-695a-45ba-8f29-cda12ef5051e",
   "metadata": {},
   "outputs": [],
   "source": [
    "# Set type\n",
    "n = np.zeros(shape=(3, 2), dtype=np.float32)"
   ]
  },
  {
   "cell_type": "code",
   "execution_count": 32,
   "id": "2bed3804-5330-4a26-8388-f6ad5632c3e8",
   "metadata": {},
   "outputs": [],
   "source": [
    "tmp = torch.tensor(n)"
   ]
  },
  {
   "cell_type": "code",
   "execution_count": 33,
   "id": "d95d39fd-cc27-46cf-b03a-43e35d94b31a",
   "metadata": {},
   "outputs": [
    {
     "data": {
      "text/plain": [
       "tensor([[0., 0.],\n",
       "        [0., 0.],\n",
       "        [0., 0.]])"
      ]
     },
     "execution_count": 33,
     "metadata": {},
     "output_type": "execute_result"
    }
   ],
   "source": [
    "tmp"
   ]
  },
  {
   "cell_type": "code",
   "execution_count": 34,
   "id": "9e51228b-80d5-4b0b-a8e9-61d1fd921a04",
   "metadata": {},
   "outputs": [
    {
     "data": {
      "text/plain": [
       "torch.float32"
      ]
     },
     "execution_count": 34,
     "metadata": {},
     "output_type": "execute_result"
    }
   ],
   "source": [
    "tmp.dtype"
   ]
  },
  {
   "cell_type": "code",
   "execution_count": 35,
   "id": "aad8d0a2-8131-4b4e-9a45-785b95060ad8",
   "metadata": {},
   "outputs": [],
   "source": [
    "# torch type\n",
    "n = np.zeros(shape=(3, 2))"
   ]
  },
  {
   "cell_type": "code",
   "execution_count": 36,
   "id": "14b2ae5e-a50e-4e67-b8fb-e1a74d2f33dd",
   "metadata": {},
   "outputs": [
    {
     "data": {
      "text/plain": [
       "tensor([[0., 0.],\n",
       "        [0., 0.],\n",
       "        [0., 0.]])"
      ]
     },
     "execution_count": 36,
     "metadata": {},
     "output_type": "execute_result"
    }
   ],
   "source": [
    "torch.tensor(n, dtype=torch.float32)"
   ]
  },
  {
   "cell_type": "markdown",
   "id": "0f3a4269-a958-44ed-8bde-e02ec43d57a7",
   "metadata": {},
   "source": [
    "### Scalar tensors"
   ]
  },
  {
   "cell_type": "code",
   "execution_count": 38,
   "id": "7f6a3c20-ad69-42e4-848d-7096849d3ac0",
   "metadata": {},
   "outputs": [],
   "source": [
    "a = torch.tensor([1, 2, 3])"
   ]
  },
  {
   "cell_type": "code",
   "execution_count": 39,
   "id": "540c5832-7ea9-4553-87a2-41f078369dc7",
   "metadata": {},
   "outputs": [
    {
     "data": {
      "text/plain": [
       "tensor([1, 2, 3])"
      ]
     },
     "execution_count": 39,
     "metadata": {},
     "output_type": "execute_result"
    }
   ],
   "source": [
    "a"
   ]
  },
  {
   "cell_type": "code",
   "execution_count": 40,
   "id": "f0da3559-5ab4-4d6f-b6da-69aaf633ec5a",
   "metadata": {},
   "outputs": [],
   "source": [
    "s = a.sum()"
   ]
  },
  {
   "cell_type": "code",
   "execution_count": 41,
   "id": "a6d80f94-9ac8-4334-8051-0e996e6ff50c",
   "metadata": {},
   "outputs": [
    {
     "data": {
      "text/plain": [
       "tensor(6)"
      ]
     },
     "execution_count": 41,
     "metadata": {},
     "output_type": "execute_result"
    }
   ],
   "source": [
    "s"
   ]
  },
  {
   "cell_type": "code",
   "execution_count": 42,
   "id": "2a556912-7c7a-471f-bf8c-37a1f3dcfcd1",
   "metadata": {},
   "outputs": [
    {
     "data": {
      "text/plain": [
       "6"
      ]
     },
     "execution_count": 42,
     "metadata": {},
     "output_type": "execute_result"
    }
   ],
   "source": [
    "s.item()"
   ]
  },
  {
   "cell_type": "markdown",
   "id": "be6331c8-704e-46c8-ae0e-249e9892a06f",
   "metadata": {},
   "source": [
    "### GPU tensors"
   ]
  },
  {
   "cell_type": "code",
   "execution_count": 44,
   "id": "9b0415ed-e68e-4cc2-9952-c222fba7ac6e",
   "metadata": {},
   "outputs": [],
   "source": [
    "a = torch.FloatTensor([2, 3])"
   ]
  },
  {
   "cell_type": "code",
   "execution_count": 46,
   "id": "44e098df-7e3e-4f50-bfd3-6a749c2cc3d6",
   "metadata": {},
   "outputs": [],
   "source": [
    "ca = a.to(\"cuda\")"
   ]
  },
  {
   "cell_type": "code",
   "execution_count": 47,
   "id": "d4219923-6316-4736-8dd7-8562e7ccb82a",
   "metadata": {},
   "outputs": [
    {
     "data": {
      "text/plain": [
       "tensor([2., 3.], device='cuda:0')"
      ]
     },
     "execution_count": 47,
     "metadata": {},
     "output_type": "execute_result"
    }
   ],
   "source": [
    "ca"
   ]
  },
  {
   "cell_type": "code",
   "execution_count": 48,
   "id": "8c0c0417-39cd-45d7-ac0e-3b917250f24a",
   "metadata": {},
   "outputs": [
    {
     "data": {
      "text/plain": [
       "tensor([3., 4.])"
      ]
     },
     "execution_count": 48,
     "metadata": {},
     "output_type": "execute_result"
    }
   ],
   "source": [
    "a + 1"
   ]
  },
  {
   "cell_type": "code",
   "execution_count": 49,
   "id": "27a3d31a-231f-4000-9cb0-788e290a6b6d",
   "metadata": {},
   "outputs": [
    {
     "data": {
      "text/plain": [
       "tensor([3., 4.], device='cuda:0')"
      ]
     },
     "execution_count": 49,
     "metadata": {},
     "output_type": "execute_result"
    }
   ],
   "source": [
    "ca + 1"
   ]
  },
  {
   "cell_type": "markdown",
   "id": "ba15e2eb-61a2-4006-9fa0-b3f7ee22350c",
   "metadata": {},
   "source": [
    "## Gradients"
   ]
  },
  {
   "cell_type": "code",
   "execution_count": 63,
   "id": "1f7cf551-c234-4289-a171-c82aa2be1f3f",
   "metadata": {},
   "outputs": [],
   "source": [
    "v1 = torch.tensor([1.0, 1.0], requires_grad=True)"
   ]
  },
  {
   "cell_type": "code",
   "execution_count": 64,
   "id": "ac21e98b-c129-4f0d-9638-e652c795bd33",
   "metadata": {},
   "outputs": [],
   "source": [
    "v2 = torch.tensor([2.0, 2.0])"
   ]
  },
  {
   "cell_type": "code",
   "execution_count": 65,
   "id": "0553be26-b430-4cbe-96ee-9555065d6916",
   "metadata": {},
   "outputs": [],
   "source": [
    "v_sum = v1 + v2"
   ]
  },
  {
   "cell_type": "code",
   "execution_count": 66,
   "id": "8cdd071c-aefe-4e81-906b-d2fa2c5d9dd0",
   "metadata": {},
   "outputs": [],
   "source": [
    "v_res = (v_sum * 2).sum()"
   ]
  },
  {
   "cell_type": "code",
   "execution_count": 67,
   "id": "89ce7a23-4188-420f-a49a-0b671effc836",
   "metadata": {},
   "outputs": [
    {
     "data": {
      "text/plain": [
       "tensor(12., grad_fn=<SumBackward0>)"
      ]
     },
     "execution_count": 67,
     "metadata": {},
     "output_type": "execute_result"
    }
   ],
   "source": [
    "v_res"
   ]
  },
  {
   "cell_type": "code",
   "execution_count": 68,
   "id": "7236a102-1f93-473e-8325-015e878c13f6",
   "metadata": {},
   "outputs": [
    {
     "data": {
      "text/plain": [
       "(True, True)"
      ]
     },
     "execution_count": 68,
     "metadata": {},
     "output_type": "execute_result"
    }
   ],
   "source": [
    "v1.is_leaf, v2.is_leaf"
   ]
  },
  {
   "cell_type": "code",
   "execution_count": 70,
   "id": "0aee24de-2b23-49f0-bc22-0abcfb0fede5",
   "metadata": {},
   "outputs": [
    {
     "data": {
      "text/plain": [
       "(True, False)"
      ]
     },
     "execution_count": 70,
     "metadata": {},
     "output_type": "execute_result"
    }
   ],
   "source": [
    "v1.requires_grad, v2.requires_grad"
   ]
  },
  {
   "cell_type": "code",
   "execution_count": 71,
   "id": "4c2dadcd-3b12-4a4f-b60e-69db89211797",
   "metadata": {},
   "outputs": [
    {
     "data": {
      "text/plain": [
       "True"
      ]
     },
     "execution_count": 71,
     "metadata": {},
     "output_type": "execute_result"
    }
   ],
   "source": [
    "v_sum.requires_grad"
   ]
  },
  {
   "cell_type": "code",
   "execution_count": 72,
   "id": "90e3141d-dbe3-4ecb-b609-ae27785d9730",
   "metadata": {},
   "outputs": [],
   "source": [
    "v_res.backward()"
   ]
  },
  {
   "cell_type": "code",
   "execution_count": 73,
   "id": "671a4f81-3295-4e7c-b967-7497973b6fad",
   "metadata": {},
   "outputs": [
    {
     "data": {
      "text/plain": [
       "tensor([2., 2.])"
      ]
     },
     "execution_count": 73,
     "metadata": {},
     "output_type": "execute_result"
    }
   ],
   "source": [
    "v1.grad"
   ]
  },
  {
   "cell_type": "markdown",
   "id": "4be8cf7a-d3a0-48fc-b3bb-29fc9fb4b518",
   "metadata": {},
   "source": [
    "아래 코드는 다음과 같당\n",
    "\n",
    "\n",
    "$v_{sum} =  x_1^3 + x_2^2 $\n",
    "\n",
    "\n",
    "$v_{sum}' =  3x_1^2 + 2x_2$"
   ]
  },
  {
   "cell_type": "code",
   "execution_count": 89,
   "id": "cebb11a9-81dd-48c0-8308-ff36503d7365",
   "metadata": {},
   "outputs": [],
   "source": [
    "## Test\n",
    "x1 = torch.tensor([2.0, 2.0], requires_grad=True)\n",
    "x2 = torch.tensor([3.0, 2.0])\n",
    "\n",
    "v = x1**x2\n",
    "v_sum = v.sum()"
   ]
  },
  {
   "cell_type": "code",
   "execution_count": 90,
   "id": "a0a551dc-ce36-42e7-b9c5-e1d7bf2e43f7",
   "metadata": {},
   "outputs": [],
   "source": [
    "v_sum.backward()"
   ]
  },
  {
   "cell_type": "code",
   "execution_count": 91,
   "id": "f685939a-bd6c-4fea-abd0-250988246167",
   "metadata": {},
   "outputs": [
    {
     "data": {
      "text/plain": [
       "tensor([12.,  4.])"
      ]
     },
     "execution_count": 91,
     "metadata": {},
     "output_type": "execute_result"
    }
   ],
   "source": [
    "x1.grad"
   ]
  },
  {
   "cell_type": "markdown",
   "id": "994a5c2d-6596-4c8a-8fb5-864cbe7d0385",
   "metadata": {},
   "source": [
    "## NN Building blocks"
   ]
  },
  {
   "cell_type": "code",
   "execution_count": 92,
   "id": "88c572fc-c8d5-46e1-8773-7c76ddf914ab",
   "metadata": {},
   "outputs": [],
   "source": [
    "import torch.nn as nn"
   ]
  },
  {
   "cell_type": "code",
   "execution_count": 93,
   "id": "ff681328-3dc2-4b68-ab88-3366b6178b11",
   "metadata": {},
   "outputs": [],
   "source": [
    "l = nn.Linear(2, 5)\n",
    "v = torch.FloatTensor([1, 2])"
   ]
  },
  {
   "cell_type": "code",
   "execution_count": 95,
   "id": "98b5e642-bf75-436d-8ec1-a6da7b035e2b",
   "metadata": {},
   "outputs": [
    {
     "data": {
      "text/plain": [
       "tensor([-0.2336,  1.0521,  0.5279, -1.1393, -0.4394], grad_fn=<AddBackward0>)"
      ]
     },
     "execution_count": 95,
     "metadata": {},
     "output_type": "execute_result"
    }
   ],
   "source": [
    "# 1x2 @ 2x5 -> 1x5\n",
    "l(v)"
   ]
  },
  {
   "cell_type": "code",
   "execution_count": 97,
   "id": "66483b19-0be9-4fd4-a87b-b21e32735d0a",
   "metadata": {},
   "outputs": [],
   "source": [
    "s = nn.Sequential(\n",
    "    nn.Linear(2, 5),\n",
    "    nn.ReLU(),\n",
    "    nn.Linear(5, 20),\n",
    "    nn.ReLU(),\n",
    "    nn.Linear(20, 10),\n",
    "    nn.Dropout(p=0.3),\n",
    "    nn.Softmax(dim=1),\n",
    ")"
   ]
  },
  {
   "cell_type": "code",
   "execution_count": 98,
   "id": "2619c93b-a2a6-4932-a6d9-6c531740d2a0",
   "metadata": {},
   "outputs": [
    {
     "data": {
      "text/plain": [
       "Sequential(\n",
       "  (0): Linear(in_features=2, out_features=5, bias=True)\n",
       "  (1): ReLU()\n",
       "  (2): Linear(in_features=5, out_features=20, bias=True)\n",
       "  (3): ReLU()\n",
       "  (4): Linear(in_features=20, out_features=10, bias=True)\n",
       "  (5): Dropout(p=0.3, inplace=False)\n",
       "  (6): Softmax(dim=1)\n",
       ")"
      ]
     },
     "execution_count": 98,
     "metadata": {},
     "output_type": "execute_result"
    }
   ],
   "source": [
    "s"
   ]
  },
  {
   "cell_type": "code",
   "execution_count": 100,
   "id": "67e9c6cf-b1cf-4429-9aed-5570a92c54c3",
   "metadata": {},
   "outputs": [],
   "source": [
    "result = s(torch.FloatTensor([[1, 2]]))"
   ]
  },
  {
   "cell_type": "code",
   "execution_count": 102,
   "id": "5439f1b2-42e9-4294-a9b5-6d2384c8aec3",
   "metadata": {},
   "outputs": [
    {
     "data": {
      "text/plain": [
       "torch.Size([1, 10])"
      ]
     },
     "execution_count": 102,
     "metadata": {},
     "output_type": "execute_result"
    }
   ],
   "source": [
    "result.shape"
   ]
  },
  {
   "cell_type": "code",
   "execution_count": 103,
   "id": "954022c6-235c-4541-8ba1-fafe28819963",
   "metadata": {},
   "outputs": [
    {
     "data": {
      "text/plain": [
       "tensor([[0.1110, 0.0854, 0.0989, 0.0872, 0.1296, 0.0989, 0.1558, 0.0884, 0.0460,\n",
       "         0.0989]], grad_fn=<SoftmaxBackward0>)"
      ]
     },
     "execution_count": 103,
     "metadata": {},
     "output_type": "execute_result"
    }
   ],
   "source": [
    "result"
   ]
  },
  {
   "cell_type": "markdown",
   "id": "b160f474-27b7-4fce-925e-baa78d1fc499",
   "metadata": {},
   "source": [
    "## TensorboardX"
   ]
  },
  {
   "cell_type": "code",
   "execution_count": 104,
   "id": "ba4607e2-5540-4cfd-9739-b7cd0c62b178",
   "metadata": {},
   "outputs": [],
   "source": [
    "%load_ext tensorboard"
   ]
  },
  {
   "cell_type": "code",
   "execution_count": 105,
   "id": "a0786c00-bffd-4f49-9b72-0259e5512850",
   "metadata": {},
   "outputs": [],
   "source": [
    "import math\n",
    "from tensorboardX import SummaryWriter"
   ]
  },
  {
   "cell_type": "code",
   "execution_count": 106,
   "id": "5f6152cc-b5e5-4004-9178-00642589d59a",
   "metadata": {},
   "outputs": [],
   "source": [
    "if __name__ == \"__main__\":\n",
    "    writer = SummaryWriter()\n",
    "    func = {\"sin\": math.sin, \"cos\": math.cos, \"tan\": math.tan}\n",
    "    for angle in range(-360, 360):\n",
    "        angle_rad = angle * math.pi / 180 \n",
    "        for name, fun in func.items():\n",
    "            val = fun(angle_rad)\n",
    "            writer.add_scalar(name, val, angle)"
   ]
  },
  {
   "cell_type": "code",
   "execution_count": null,
   "id": "e89e7767-4bb5-4bc5-9f5a-78af4e79fa9e",
   "metadata": {},
   "outputs": [],
   "source": []
  }
 ],
 "metadata": {
  "kernelspec": {
   "display_name": "Python 3 (ipykernel)",
   "language": "python",
   "name": "python3"
  },
  "language_info": {
   "codemirror_mode": {
    "name": "ipython",
    "version": 3
   },
   "file_extension": ".py",
   "mimetype": "text/x-python",
   "name": "python",
   "nbconvert_exporter": "python",
   "pygments_lexer": "ipython3",
   "version": "3.7.12"
  }
 },
 "nbformat": 4,
 "nbformat_minor": 5
}
